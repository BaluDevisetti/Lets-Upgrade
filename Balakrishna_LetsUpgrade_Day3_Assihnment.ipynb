{
 "cells": [
  {
   "cell_type": "markdown",
   "metadata": {},
   "source": [
    "Q1. Create a numpy array starting from 2 till 50 with a stepsize of 3."
   ]
  },
  {
   "cell_type": "code",
   "execution_count": 1,
   "metadata": {},
   "outputs": [
    {
     "data": {
      "text/plain": [
       "array([ 2,  5,  8, 11, 14, 17, 20, 23, 26, 29, 32, 35, 38, 41, 44, 47, 50])"
      ]
     },
     "execution_count": 1,
     "metadata": {},
     "output_type": "execute_result"
    }
   ],
   "source": [
    "import numpy as np\n",
    "\n",
    "np.arange(2,51,3)"
   ]
  },
  {
   "cell_type": "markdown",
   "metadata": {},
   "source": [
    "Q2. Accept two lists of 5 elements each from the user.\n",
    "Convert them to numpy arrays. Concatenate these arrays and print it. Also sort these arrays and print it."
   ]
  },
  {
   "cell_type": "code",
   "execution_count": 2,
   "metadata": {},
   "outputs": [
    {
     "name": "stdout",
     "output_type": "stream",
     "text": [
      "list1 size:: 3\n",
      "Elements::3\n",
      "Elements::1\n",
      "Elements::2\n",
      "list1: [3, 1, 2]\n",
      "list2 size:: 3\n",
      "Elements::6\n",
      "Elements::5\n",
      "Elements::7\n",
      "list2: [6, 5, 7]\n",
      "convert list into np array\n",
      "array1: [3 1 2]\n",
      "array2: [6 5 7]\n",
      "concatenate arrays\n",
      "[3 1 2 6 5 7]\n",
      "sort arrays\n",
      "[1 2 3]\n",
      "[5 6 7]\n"
     ]
    }
   ],
   "source": [
    "list1=list()\n",
    "list2=list()\n",
    "l1_size=int(input(\"list1 size:: \"))\n",
    "for i in range(l1_size):\n",
    "    p=int(input(\"Elements::\"))\n",
    "    list1.append(p)\n",
    "print('list1:',list1)\n",
    "l2_size=int(input(\"list2 size:: \"))\n",
    "for i in range(l2_size):\n",
    "    q=int(input(\"Elements::\"))\n",
    "    list2.append(q)\n",
    "print('list2:',list2)\n",
    "\n",
    "print(\"convert list into np array\")\n",
    "np1= np.array(list1)\n",
    "np2=np.array(list2)\n",
    "print(\"array1:\", np1)\n",
    "print(\"array2:\",np2)\n",
    "\n",
    "print(\"concatenate arrays\")\n",
    "print(np.concatenate((np1,np2),axis=0))\n",
    "\n",
    "print(\"sort arrays\")\n",
    "print(np.sort(np1))\n",
    "print(np.sort(np2))\n",
    "\n"
   ]
  },
  {
   "cell_type": "markdown",
   "metadata": {},
   "source": [
    "q3. Write a code snippet to find the dimensions of a ndarray and its size."
   ]
  },
  {
   "cell_type": "code",
   "execution_count": 12,
   "metadata": {},
   "outputs": [
    {
     "name": "stdout",
     "output_type": "stream",
     "text": [
      "dimension: 2\n",
      "shape: (2, 2)\n",
      "size: 4\n"
     ]
    }
   ],
   "source": [
    "a = np.array([[1,2],[3,4]])\n",
    "arr_shape = a.shape\n",
    "arr_dim = a.ndim\n",
    "arr_size = a.size\n",
    "print(\"dimension:\",arr_dim)\n",
    "print(\"shape:\",arr_shape)\n",
    "print(\"size:\",arr_size)"
   ]
  },
  {
   "cell_type": "markdown",
   "metadata": {},
   "source": [
    "q4. How to convert a 1D array into a 2D array? Demonstrate with the help of a code snippet\n",
    "Hint: np.newaxis, np.expand_dims"
   ]
  },
  {
   "cell_type": "code",
   "execution_count": 29,
   "metadata": {},
   "outputs": [
    {
     "name": "stdout",
     "output_type": "stream",
     "text": [
      "[[1]\n",
      " [2]\n",
      " [3]\n",
      " [4]\n",
      " [5]\n",
      " [6]]\n",
      "************\n",
      "[[[1 2 3 4 5 6]]]\n"
     ]
    }
   ],
   "source": [
    "x1d = np.array([1,2,3,4,5,6])\n",
    "#x2d = np.reshape(x1d,(2, 3))\n",
    "#print(x2d)\n",
    "x2d_new= x1d[:, np.newaxis]\n",
    "print(x2d_new)\n",
    "print(\"************\")\n",
    "expand_dims = np.expand_dims(x1d, axis=(0,1))\n",
    "print(expand_dims)"
   ]
  },
  {
   "cell_type": "markdown",
   "metadata": {},
   "source": [
    "Questions 5:\n",
    "Consider two square numpy arrays. Stack them vertically and horizontally.\n",
    "Hint: Use vstack(), hstack()"
   ]
  },
  {
   "cell_type": "code",
   "execution_count": 37,
   "metadata": {},
   "outputs": [
    {
     "name": "stdout",
     "output_type": "stream",
     "text": [
      "arr1 : \n",
      " [[1 2]\n",
      " [3 4]]\n",
      "arr2 : \n",
      "  [[5 6]\n",
      " [7 8]]\n",
      "************\n",
      "vertical stack: \n",
      " [[1 2]\n",
      " [3 4]\n",
      " [5 6]\n",
      " [7 8]]\n",
      "Horizontal stack: \n",
      " [[1 2 5 6]\n",
      " [3 4 7 8]]\n"
     ]
    }
   ],
   "source": [
    "arr1 =np.array([[1,2],[3,4]]) \n",
    "print (\"arr1 : \\n\", arr1) \n",
    "  \n",
    "arr2 = np.array([[5,6],[7,8]]) \n",
    "print (\"arr2 : \\n \", arr2) \n",
    "\n",
    "print(\"************\")\n",
    "print(\"vertical stack: \\n\", np.vstack((arr1,arr2)))\n",
    "print(\"Horizontal stack: \\n\",np.hstack((arr1,arr2)))"
   ]
  },
  {
   "cell_type": "markdown",
   "metadata": {},
   "source": [
    "Questions 6:\n",
    "How to get unique items and counts of unique items?"
   ]
  },
  {
   "cell_type": "code",
   "execution_count": 43,
   "metadata": {},
   "outputs": [
    {
     "name": "stdout",
     "output_type": "stream",
     "text": [
      "the unique values from a_list is:\n",
      "[ 7  8  9 11 12]\n",
      "no.of unique items are:  5\n"
     ]
    }
   ],
   "source": [
    "#consider taking a list\n",
    "\n",
    "def unique(a_list):\n",
    "    x = np.array(a_list)\n",
    "    print(np.unique(x))\n",
    "    \n",
    "a_list = [7,8,7,9,9,11,12,12]\n",
    "print(\"the unique values from a_list is:\")\n",
    "unique(a_list)\n",
    "\n",
    "l1=[]\n",
    "count=0\n",
    "for item in a_list:\n",
    "    if item not in l1:\n",
    "        count = count+1\n",
    "        l1.append(item)\n",
    "print(\"no.of unique items are: \", count)\n",
    "    \n",
    "\n",
    "    \n"
   ]
  },
  {
   "cell_type": "code",
   "execution_count": null,
   "metadata": {},
   "outputs": [],
   "source": []
  }
 ],
 "metadata": {
  "kernelspec": {
   "display_name": "Python 3",
   "language": "python",
   "name": "python3"
  },
  "language_info": {
   "codemirror_mode": {
    "name": "ipython",
    "version": 3
   },
   "file_extension": ".py",
   "mimetype": "text/x-python",
   "name": "python",
   "nbconvert_exporter": "python",
   "pygments_lexer": "ipython3",
   "version": "3.8.3"
  }
 },
 "nbformat": 4,
 "nbformat_minor": 4
}
