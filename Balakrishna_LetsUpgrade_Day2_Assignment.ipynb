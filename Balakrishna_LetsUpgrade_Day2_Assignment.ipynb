{
 "cells": [
  {
   "cell_type": "markdown",
   "metadata": {},
   "source": [
    "Questions 1:\n",
    "\n",
    "Create an empty list. Accept 10 numbers from the user and append to it the list if it is an even number"
   ]
  },
  {
   "cell_type": "code",
   "execution_count": 14,
   "metadata": {},
   "outputs": [
    {
     "name": "stdout",
     "output_type": "stream",
     "text": [
      "list size:: 6\n",
      "input::1\n",
      "input::2\n",
      "input::3\n",
      "input::4\n",
      "input::5\n",
      "input::6\n",
      "ouput: [2, 4, 6]\n"
     ]
    }
   ],
   "source": [
    "def even(A):\n",
    "    even_list = [] \n",
    "    for i in A:\n",
    "        if (i % 2 == 0):\n",
    "            even_list.append(i)\n",
    "    print(\"ouput:\", even_list)\n",
    "\n",
    "A=list()\n",
    "n=int(input(\"list size:: \"))\n",
    "for i in range(n):\n",
    "    k=int(input(\"input::\"))\n",
    "    A.append(k)\n",
    "even(A)\n",
    "   \n"
   ]
  },
  {
   "cell_type": "markdown",
   "metadata": {},
   "source": [
    "Questions 2:\n",
    "\n",
    "Create a notebook on LIST COMPREHENSION. This exercise is to put you in a Self learning mode"
   ]
  },
  {
   "cell_type": "code",
   "execution_count": 16,
   "metadata": {
    "scrolled": true
   },
   "outputs": [
    {
     "name": "stdout",
     "output_type": "stream",
     "text": [
      "[121, 169, 225, 289, 361, 400, 529, 576, 676]\n",
      "[1, 2, 3, 4, 5, 6, 7, 8, 9, 10]\n"
     ]
    }
   ],
   "source": [
    "list2 = [11,13,15,17,19,20,23,24,26]\n",
    "squaredlist = [i**2 for i in list2]\n",
    "print(squaredlist)\n",
    "\n",
    "L3 = [i for i in range(1,11)]\n",
    "print(L3)"
   ]
  },
  {
   "cell_type": "markdown",
   "metadata": {},
   "source": [
    "Questions 3:\n",
    "\n",
    "In this assignment, given a number n, you have to write a program that generates a dictionary d which\n",
    "contains (i, i*i), where i is from 1 to n (both included)."
   ]
  },
  {
   "cell_type": "code",
   "execution_count": 17,
   "metadata": {},
   "outputs": [
    {
     "name": "stdout",
     "output_type": "stream",
     "text": [
      "input:: 8\n",
      "Output::  {1: 1, 2: 4, 3: 9, 4: 16, 5: 25, 6: 36, 7: 49, 8: 64}\n"
     ]
    }
   ],
   "source": [
    "n = int(input(\"input:: \"))\n",
    "d = dict()\n",
    "for i in range(1,n+1):\n",
    "    d[i]=i*i\n",
    "print(\"Output:: \",d)"
   ]
  },
  {
   "cell_type": "markdown",
   "metadata": {},
   "source": [
    "QUESTION 4\n",
    "There is a robot which wants to go the charging point to charge itself.\n",
    "The robot moves in a 2-D plane from the original point (0,0). The robot can\n",
    "move toward UP, DOWN, LEFT and RIGHT with given steps.\n",
    "The trace of robot movement is shown as the following:\n",
    "UP 5\n",
    "DOWN 3\n",
    "LEFT 3\n",
    "RIGHT 2\n",
    "Then, the output of the program should be:\n",
    "2"
   ]
  },
  {
   "cell_type": "code",
   "execution_count": 16,
   "metadata": {},
   "outputs": [
    {
     "name": "stdout",
     "output_type": "stream",
     "text": [
      "no of directions:1\n",
      "DOWN 4\n",
      "4\n"
     ]
    }
   ],
   "source": [
    "origin = {\"x\":0,\"y\":0}\n",
    "n = int(input(\"no of directions:\"))\n",
    "c=0\n",
    "while (c!=n):\n",
    "    n2 = input()\n",
    "    c=c+1\n",
    "    if not n2:\n",
    "        break\n",
    "\n",
    "    direction,steps=n2.split()\n",
    "    if direction == \"UP\":\n",
    "        origin[\"y\"] += int(steps)\n",
    "    elif direction == \"DOWN\":\n",
    "        origin[\"y\"] -= int(steps)\n",
    "    elif direction == \"LEFT\":\n",
    "        origin[\"x\"] -= int(steps)\n",
    "    elif direction == \"RIGHT\":\n",
    "        origin[\"x\"] += int(steps)\n",
    "print (int(round((origin[\"x\"]**2 + origin[\"y\"]**2)**0.5)))        \n",
    "\n",
    "        "
   ]
  },
  {
   "cell_type": "code",
   "execution_count": null,
   "metadata": {},
   "outputs": [],
   "source": []
  },
  {
   "cell_type": "code",
   "execution_count": null,
   "metadata": {},
   "outputs": [],
   "source": []
  },
  {
   "cell_type": "code",
   "execution_count": null,
   "metadata": {},
   "outputs": [],
   "source": []
  }
 ],
 "metadata": {
  "kernelspec": {
   "display_name": "Python 3",
   "language": "python",
   "name": "python3"
  },
  "language_info": {
   "codemirror_mode": {
    "name": "ipython",
    "version": 3
   },
   "file_extension": ".py",
   "mimetype": "text/x-python",
   "name": "python",
   "nbconvert_exporter": "python",
   "pygments_lexer": "ipython3",
   "version": "3.8.3"
  }
 },
 "nbformat": 4,
 "nbformat_minor": 4
}
